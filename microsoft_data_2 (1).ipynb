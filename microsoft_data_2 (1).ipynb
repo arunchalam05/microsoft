{
 "cells": [
  {
   "cell_type": "code",
   "execution_count": 12,
   "metadata": {},
   "outputs": [],
   "source": [
    "import pandas as pd\n",
    "import warnings\n",
    "warnings.filterwarnings('ignore')"
   ]
  },
  {
   "cell_type": "code",
   "execution_count": 3,
   "metadata": {},
   "outputs": [
    {
     "data": {
      "text/plain": [
       "(56756, 82)"
      ]
     },
     "execution_count": 3,
     "metadata": {},
     "output_type": "execute_result"
    }
   ],
   "source": [
    "microsoft_df=pd.read_csv('Microsoft_Data.csv')\n",
    "\n",
    "microsoft_df\n",
    "y=microsoft_df['HasDetections']\n",
    "microsoft_df.drop(columns='HasDetections',inplace=True)\n",
    "microsoft_df.shape\n"
   ]
  },
  {
   "cell_type": "code",
   "execution_count": 10,
   "metadata": {},
   "outputs": [
    {
     "data": {
      "text/plain": [
       "(56756, 71)"
      ]
     },
     "execution_count": 10,
     "metadata": {},
     "output_type": "execute_result"
    }
   ],
   "source": [
    "import scipy.stats\n",
    "\n",
    "crosstab=pd.crosstab(microsoft_df['OsBuild'],microsoft_df['Census_InternalBatteryNumberOfCharges'])\n",
    "\n",
    "result=scipy.stats.chi2_contingency(crosstab)\n",
    "#crosstab\n",
    "result\n",
    "microsoft_df.shape"
   ]
  },
  {
   "cell_type": "code",
   "execution_count": 4,
   "metadata": {},
   "outputs": [
    {
     "data": {
      "text/plain": [
       "['DefaultBrowsersIdentifier',\n",
       " 'PuaMode',\n",
       " 'Census_ProcessorClass',\n",
       " 'Census_InternalBatteryType',\n",
       " 'Census_IsFlightingInternal',\n",
       " 'Census_ThresholdOptIn',\n",
       " 'Census_IsWIMBootEnabled']"
      ]
     },
     "execution_count": 4,
     "metadata": {},
     "output_type": "execute_result"
    }
   ],
   "source": [
    "missing_value_df=pd.DataFrame({'Column_Name':microsoft_df.columns,\n",
    "                             'missing_value_count':microsoft_df.isnull().sum(),\n",
    "                             'missing_value_percent':microsoft_df.isnull().sum()/microsoft_df.shape[0]*100})\n",
    "\n",
    "missing_value_df.sort_values(by='missing_value_percent',ascending=False)\n",
    "\n",
    "cols_drop=list(missing_value_df[missing_value_df['missing_value_percent']>50]['Column_Name'])\n",
    "cols_drop\n",
    "\n",
    "microsoft_df['SmartScreen'].value_counts()\n",
    "microsoft_df.shape\n",
    "cols_drop"
   ]
  },
  {
   "cell_type": "code",
   "execution_count": 5,
   "metadata": {},
   "outputs": [
    {
     "data": {
      "text/plain": [
       "['DefaultBrowsersIdentifier',\n",
       " 'PuaMode',\n",
       " 'Census_ProcessorClass',\n",
       " 'Census_InternalBatteryType',\n",
       " 'Census_IsFlightingInternal',\n",
       " 'Census_ThresholdOptIn',\n",
       " 'Census_IsWIMBootEnabled',\n",
       " 'MachineIdentifier',\n",
       " 'IsBeta',\n",
       " 'AutoSampleOptIn',\n",
       " 'PuaMode',\n",
       " 'Census_IsFlightingInternal',\n",
       " 'Census_IsFlightsDisabled',\n",
       " 'Census_IsWIMBootEnabled']"
      ]
     },
     "execution_count": 5,
     "metadata": {},
     "output_type": "execute_result"
    }
   ],
   "source": [
    "for col in microsoft_df.columns:\n",
    "    if microsoft_df[col].nunique()==microsoft_df.shape[0] or microsoft_df[col].nunique()==1:\n",
    "        cols_drop.append(col)\n",
    "cols_drop"
   ]
  },
  {
   "cell_type": "code",
   "execution_count": 6,
   "metadata": {},
   "outputs": [
    {
     "data": {
      "text/plain": [
       "(56756, 71)"
      ]
     },
     "execution_count": 6,
     "metadata": {},
     "output_type": "execute_result"
    }
   ],
   "source": [
    "\n",
    "#microsoft_df.columns\n",
    "\n",
    "microsoft_df.drop(columns=cols_drop,inplace=True)\n",
    "microsoft_df.shape"
   ]
  },
  {
   "cell_type": "code",
   "execution_count": 7,
   "metadata": {},
   "outputs": [
    {
     "data": {
      "text/plain": [
       "dtype('float64')"
      ]
     },
     "execution_count": 7,
     "metadata": {},
     "output_type": "execute_result"
    }
   ],
   "source": [
    "for col in microsoft_df.columns:\n",
    "    if col!='Census_SystemVolumeTotalCapacity':\n",
    "        microsoft_df[col]=microsoft_df[col].astype(object)\n",
    "microsoft_df['Census_SystemVolumeTotalCapacity'].dtype\n",
    "\n"
   ]
  },
  {
   "cell_type": "code",
   "execution_count": 8,
   "metadata": {},
   "outputs": [
    {
     "data": {
      "text/plain": [
       "(39729, 71)"
      ]
     },
     "execution_count": 8,
     "metadata": {},
     "output_type": "execute_result"
    }
   ],
   "source": [
    "from sklearn.model_selection import train_test_split\n",
    "\n",
    "X_train,X_test,Y_train,Y_test=train_test_split(microsoft_df,y,test_size=0.3,random_state=43)\n",
    "\n",
    "X_train.shape"
   ]
  },
  {
   "cell_type": "code",
   "execution_count": 13,
   "metadata": {},
   "outputs": [
    {
     "data": {
      "text/plain": [
       "ProductName                                int64\n",
       "EngineVersion                              int64\n",
       "AppVersion                                 int64\n",
       "AvSigVersion                               int64\n",
       "RtpStateBitfield                           int64\n",
       "                                           ...  \n",
       "Census_IsTouchEnabled                      int64\n",
       "Census_IsPenCapable                        int64\n",
       "Census_IsAlwaysOnAlwaysConnectedCapable    int64\n",
       "Wdft_IsGamer                               int64\n",
       "Wdft_RegionIdentifier                      int64\n",
       "Length: 71, dtype: object"
      ]
     },
     "execution_count": 13,
     "metadata": {},
     "output_type": "execute_result"
    }
   ],
   "source": [
    "for col in X_train.columns:\n",
    "    if X_train[col].dtype=='object':\n",
    "        X_train[col]=X_train[col].fillna(X_train[col].mode()[0]).astype(object)\n",
    "        X_test[col]=X_test[col].fillna(X_train[col].mode()[0]).astype(object)\n",
    "    \n",
    "    else:\n",
    "        X_train[col]=X_train[col].fillna(X_train[col].mean())\n",
    "        X_test[col]=X_test[col].fillna(X_train[col].mean())\n",
    "        \n",
    "X_train.dtypes"
   ]
  },
  {
   "cell_type": "code",
   "execution_count": 20,
   "metadata": {},
   "outputs": [],
   "source": [
    "from sklearn.preprocessing import LabelEncoder\n",
    "import numpy as np\n",
    "\n",
    "\n",
    "class LabelEncoderExt(object):\n",
    "    def __init__(self):\n",
    "        \"\"\"\n",
    "        It differs from LabelEncoder by handling new classes and providing a value for it [Unknown]\n",
    "        Unknown will be added in fit and transform will take care of new item. It gives unknown class id\n",
    "        \"\"\"\n",
    "        self.label_encoder = LabelEncoder()\n",
    "        # self.classes_ = self.label_encoder.classes_\n",
    "\n",
    "    def fit(self, data_list):\n",
    "        \"\"\"\n",
    "        This will fit the encoder for all the unique values and introduce unknown value\n",
    "        :param data_list: A list of string\n",
    "        :return: self\n",
    "        \"\"\"\n",
    "        self.label_encoder = self.label_encoder.fit(list(data_list) + ['Unknown'])\n",
    "        self.classes_ = self.label_encoder.classes_\n",
    "\n",
    "        return self\n",
    "\n",
    "    def transform(self, data_list):\n",
    "        \"\"\"\n",
    "        This will transform the data_list to id list where the new values get assigned to Unknown class\n",
    "        :param data_list:\n",
    "        :return:\n",
    "        \"\"\"\n",
    "        new_data_list = list(data_list)\n",
    "        for unique_item in np.unique(data_list):\n",
    "            if unique_item not in self.label_encoder.classes_:\n",
    "                new_data_list = ['Unknown' if x==unique_item else x for x in new_data_list]\n",
    "\n",
    "        return self.label_encoder.transform(new_data_list)\n",
    "    \n",
    "le=LabelEncoderExt()\n",
    "\n",
    "for col in X_train.columns:\n",
    "    if X_train[col].dtype=='object':\n",
    "        le.fit(X_train[col])\n",
    "        X_train[col]=le.transform(X_train[col])\n",
    "        X_test[col]=le.transform(X_test[col])\n"
   ]
  },
  {
   "cell_type": "code",
   "execution_count": null,
   "metadata": {},
   "outputs": [],
   "source": []
  }
 ],
 "metadata": {
  "kernelspec": {
   "display_name": "Python 3",
   "language": "python",
   "name": "python3"
  },
  "language_info": {
   "codemirror_mode": {
    "name": "ipython",
    "version": 3
   },
   "file_extension": ".py",
   "mimetype": "text/x-python",
   "name": "python",
   "nbconvert_exporter": "python",
   "pygments_lexer": "ipython3",
   "version": "3.7.4"
  }
 },
 "nbformat": 4,
 "nbformat_minor": 2
}
